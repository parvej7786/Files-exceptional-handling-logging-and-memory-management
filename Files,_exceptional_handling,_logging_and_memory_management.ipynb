{
  "nbformat": 4,
  "nbformat_minor": 0,
  "metadata": {
    "colab": {
      "provenance": []
    },
    "kernelspec": {
      "name": "python3",
      "display_name": "Python 3"
    },
    "language_info": {
      "name": "python"
    }
  },
  "cells": [
    {
      "cell_type": "markdown",
      "source": [
        "**Files, exceptional handling, logging and memory management**"
      ],
      "metadata": {
        "id": "Si-BPpXv0_lf"
      }
    },
    {
      "cell_type": "markdown",
      "source": [
        "1. What is the difference between interpreted and compiled languages?\n",
        " -> gramming languages lies in how they translate source code into machine-executable instructions. Compiled languages translate the entire program into machine code before execution, while interpreted languages translate the code line by line during execution.\n",
        "\n",
        "2. What is exception handling in Python?\n",
        "  -> Exception handling in Python is a mechanism to manage runtime errors, known as exceptions, that can disrupt the normal flow of a program. It allows the program to continue executing even when errors occur, preventing abrupt termination. The core of exception handling in Python involves the try, except, else, and finally blocks.Exception handling in Python is a mechanism to manage runtime errors, known as exceptions, that can disrupt the normal flow of a program. It allows the program to continue executing even when errors occur, preventing abrupt termination. The core of exception handling in Python involves the try, except, else, and finally blocks.\n",
        "  try:\n",
        "    numerator = 10\n",
        "    denominator = 0\n",
        "    result = numerator / denominator\n",
        "    print(result)\n",
        "except ZeroDivisionError as e:\n",
        "    print(f\"Error: Cannot divide by zero. {e}\")\n",
        "except TypeError as e:\n",
        "    print(f\"Error: Invalid type operation. {e}\")\n",
        "else:\n",
        "    print(\"Division successful.\")\n",
        "finally:\n",
        "    print(\"Execution complete.\")\n",
        "\n",
        "\n",
        "3. What is the purpose of the finally block in exception handling?\n",
        "->The purpose of the finally block in exception handling is to ensure that a specific block of code is always executed, regardless of whether an exception occurs in the preceding try block, or if any exception handling catch blocks are triggered. It's crucial for guaranteeing that critical cleanup actions, such as closing files or releasing resources, are performed consistently, even in the face of unexpected errors.\n",
        "\n",
        "4. What is logging in Python?\n",
        "->Logging in Python refers to the process of recording events that occur during the execution of a program. It's a crucial tool for debugging, monitoring, and understanding the behavior of software applications. The logging module is part of the Python standard library and provides a flexible framework for emitting log messages.\n",
        "Logging involves recording messages about events that happen while a program runs. These messages can provide information about the program's state, errors, warnings, or other relevant details. Log messages are typically written to a file, but they can also be sent to other destinations such as the console or a network socket.\n",
        "import logging\n",
        "\n",
        "# Configure logging\n",
        "logging.basicConfig(filename='my_app.log', level=logging.INFO,\n",
        "                    format='%(asctime)s - %(levelname)s - %(message)s')\n",
        "\n",
        "# Log messages\n",
        "logging.debug('This is a debug message')\n",
        "logging.info('This is an info message')\n",
        "logging.warning('This is a warning message')\n",
        "logging.error('This is an error message')\n",
        "logging.critical('This is a critical message')\n",
        "\n",
        "5. What is the significance of the __del__ method in Python?\n",
        "->The _del_ method in Python, also known as a destructor, defines actions to be performed when an object is garbage collected. It's called automatically when all references to an object have been deleted, signifying that the object is no longer in use and its memory can be reclaimed.\n",
        "The primary significance of _del_ lies in resource management. It allows for the cleanup of external resources held by an object, such as closing files, releasing network connections, or freeing allocated memory. This is crucial for preventing resource leaks and ensuring the stability of applications.\n",
        "However, relying heavily on _del_ is generally discouraged due to its unpredictable timing and potential for errors. Garbage collection is not guaranteed to occur immediately after an object becomes unreachable, and in some cases, _del_ may not be called at all. Additionally, exceptions raised within _del_ are often ignored, making debugging difficult.\n",
        "Therefore, it's recommended to use context managers (with statement) or explicit cleanup methods instead of _del_ for resource management. These approaches provide more control and predictability, leading to more robust and maintainable code\n",
        "\n",
        "6. What is the difference between import and from ... import in Python?\n",
        "->The import statement and the from ... import statement in Python serve different purposes in how they bring modules and their contents into your code.\n",
        "import module_name: This statement imports the entire module. To access items within the module, you need to use the module name as a prefix. For example:\n",
        "\n",
        "7. How can you handle multiple exceptions in Python?\n",
        "->To catch multiple exceptions in Python in a compact form, you can use the one-line try-except syntax. This is especially useful for handling minor errors without breaking the program flow. This one-line try-except statement catches multiple exceptions and provides a concise error-handling method.22 Nov 2024\n",
        "\n",
        "8. What is the purpose of the with statement when handling files in Python?\n",
        "->The with statement in Python simplifies file handling by ensuring that files are properly opened and closed, even if errors occur. It provides a clean and readable way to manage resources, preventing resource leaks and making code more robust. When used with the open() function, the with statement automatically handles the closing of the file once the block of code within it is executed. This eliminates the need for explicitly calling file.close(), reducing the risk of errors and improving code clarity.\n",
        "\n",
        "\n",
        "9. What is the difference between multithreading and multiprocessing?\n",
        "->Multithreading and multiprocessing are both techniques to run multiple tasks concurrently, but they differ in how they achieve this. Multithreading creates multiple threads within a single process, allowing for concurrent execution within that process, while multiprocessing creates multiple processes, each with its own resources, enabling parallel execution across multiple processors.\n",
        "\n",
        "\n",
        "10. What are the advantages of using logging in a program/\n",
        "->Logging offers significant advantages in software development, including improved debugging, easier troubleshooting, enhanced system observability, and better communication between developers and administrators. It provides a record of events, helping identify issues, understand system behavior, and optimize performance.\n",
        "\n",
        "\n",
        "11. What is memory management in Python?\n",
        "->Memory management in Python involves the allocation and deallocation of memory resources for objects. It is handled automatically by the Python memory manager, which uses a private heap to store all Python objects and data structures. The memory manager employs techniques like reference counting and garbage collection to ensure efficient memory usage.\n",
        "Reference counting tracks the number of references to each object, freeing the memory when the count drops to zero. Garbage collection periodically identifies and reclaims memory occupied by objects no longer in use. Python's memory management also includes object-specific allocators and a raw memory allocator that interacts with the operating system. This system optimizes memory usage for different object types and ensures that Python programs run efficiently without manual memory management.\n",
        "\n",
        "\n",
        "12. What are the basic steps involved in exception handling in Python?\n",
        "->Exception handling in Python involves the following steps:\n",
        "Try block:\n",
        "Enclose the code that might raise an exception within a try block. This signals that the code within is being monitored for potential errors.\n",
        "Except block:\n",
        "If an exception occurs within the try block, the program flow immediately jumps to the except block. This block specifies how to handle the exception. You can have multiple except blocks to handle different types of exceptions or a general except block to catch any exception.\n",
        "Else block (optional):\n",
        "The else block is executed only if no exceptions are raised in the try block. It's useful for code that should run only when the try block succeeds without errors.\n",
        "Finally block (optional):\n",
        "The finally block is always executed, regardless of whether an exception occurred or not. It is typically used for cleanup actions like closing files or releasing resources.\n",
        "\n",
        "\n",
        "13. Why is memory management important in Python?\n",
        "->Memory management is important in Python for ensuring efficient resource utilization, preventing memory leaks, and maintaining program stability. Python automates memory management through techniques like garbage collection and reference counting. This automation simplifies development, but understanding its principles remains crucial for writing optimized and robust code.\n",
        "Efficient memory management directly impacts performance. By allocating and deallocating memory effectively, Python programs can run faster and handle larger datasets. Proper memory handling also prevents memory leaks, where unused memory is not released, eventually leading to program crashes or system instability. Furthermore, it contributes to program safety by preventing unauthorized memory access, protecting against bugs and security vulnerabilities.\n",
        "\n",
        "14. What is the role of try and except in exception handling?\n",
        "->In exception handling, try and except blocks work together to gracefully handle errors or exceptions that may occur during code execution. The try block contains the code that might potentially raise an exception, and the except block contains the code that will be executed if an exception is raised within the try block. This allows the program to continue running instead of crashing when an error occurs.\n",
        "\n",
        "15. How does Python's garbage collection system work?\n",
        "->Python uses a hybrid approach for garbage collection: reference counting and generational garbage collection. Reference counting is the primary method, where each object has a reference count indicating how many other objects are referencing it. When an object's reference count reaches zero, it's deallocated. However, to handle circular references (where objects reference each other), Python also employs a generational garbage collector. This collector uses a mark-and-sweep algorithm to identify and reclaim memory occupied by unreachable objects, even in the presence of cycles.\n",
        "\n",
        "\n",
        "16. What is the purpose of the else block in exception handling?\n",
        "->The else block in exception handling, often used in try...except...else structures, executes only when no exceptions are raised within the try block. It provides a way to execute code that's intended to run when the try block executes successfully, effectively separating normal execution from exception handling.\n",
        "\n",
        "17. What are the common logging levels in Python?\n",
        "->framework for emitting log messages with different severity levels. These levels, in ascending order of severity, are:\n",
        "DEBUG (10): Detailed information, typically used for diagnosing problems.\n",
        "INFO (20): Confirmation that things are working as expected.\n",
        "WARNING (30): Indication that something unexpected happened or might happen in the future, but the program can still function.\n",
        "ERROR (40): Signifies a more serious issue that prevented a function from executing correctly.\n",
        "CRITICAL (50): Represents a severe error that might lead to the program's termination.\n",
        "When configuring the logging level, messages at that level and higher will be emitted. For example, setting the level to INFO will include INFO, WARNING, ERROR, and CRITICAL messages, while DEBUG messages will be ignored.\n",
        "\n",
        "18. What is the difference between os.fork() and multiprocessing in Python?\n",
        "->The os.fork() system call and the multiprocessing module in Python both enable the creation of new processes, but they differ significantly in their approach, portability, and ease of use.\n",
        "os.fork()\n",
        "Mechanism:\n",
        "os.fork() creates a new process by duplicating the calling process. The new process, called the child process, is an exact copy of the parent process, including its memory space, open files, and other resources.\n",
        "Portability:\n",
        "os.fork() is only available on Unix-like systems (e.g., Linux, macOS). It is not supported on Windows.\n",
        "Complexity:\n",
        "os.fork() is a low-level system call that requires careful handling of process management, especially when dealing with shared resources or inter-process communication.\n",
        "Use Case:\n",
        "It is suitable for situations where fine-grained control over process creation and management is needed, such as implementing custom process pools or daemons.\n",
        "\n",
        "19. What is the importance of closing a file in Python?\n",
        "->Closing a file in Python is important for several reasons:\n",
        "Resource Management:\n",
        "When a file is opened, the operating system allocates resources to manage it. If the file is not closed properly, these resources remain allocated, potentially leading to resource leaks, which can degrade system performance or cause crashes.\n",
        "Data Integrity:\n",
        "When writing to a file, data is often buffered before being written to the disk. Closing the file ensures that all buffered data is flushed to the disk, preventing data loss or corruption.\n",
        "File Locking:\n",
        "Some file operations require exclusive access to the file. If a file is not closed, it may remain locked, preventing other processes or users from accessing it.\n",
        "Preventing Errors:\n",
        "Failing to close a file can lead to errors when attempting to perform other file operations, such as deleting or renaming the file.\n",
        "Code Maintainability:\n",
        "Explicitly closing files makes the code more readable and maintainable, as it clearly indicates when resources are being managed.\n",
        "Avoiding File Limit Issues:\n",
        "Operating systems limit the number of files that can be open simultaneously. Not closing files can lead to exceeding this limit, causing errors.\n",
        "Python offers the with statement as a best practice for automatically managing file closing, even if exceptions occur.\n",
        "\n",
        "20. What is the difference between file.read() and file.readline() in Python?\n",
        "->The methods file.read() and file.readline() in Python serve distinct purposes when reading data from a file:\n",
        "file.read():\n",
        "This method reads the entire file content as a single string. If a size argument is provided (e.g., file.read(size)), it reads up to that number of characters or bytes. Without the size argument, it reads the entire file, potentially consuming significant memory for large files.\n",
        "file.readline():\n",
        "This method reads a single line from the file, including the newline character (\\n) at the end, and returns it as a string. Subsequent calls to file.readline() will read the next line, and so on. If there are no more lines to read, it returns an empty string.\n",
        "In essence, file.read() reads the whole file at once, while file.readline() reads the file line by line. Choosing between them depends on the specific task and the size of the file. For processing large files or when line-by-line analysis is needed, file.readline() is more efficient. file.read() is suitable when the entire file content is needed at once and memory usage is not a concern.\n",
        "\n",
        "21. What is the logging module in Python used for?\n",
        "->The logging module in Python is used for recording events and debugging issues during application execution. It provides a flexible system for logging messages, including errors, warnings, and informational messages, to various output destinations like files or the console.\n",
        "\n",
        "22. What is the os module in Python used for in file handling?\n",
        "->Python has a built-in os module with methods for interacting with the operating system, like creating files and directories, management of files and directories, input, output, environment variables, process management, etc.\n",
        "\n",
        "23. What are the challenges associated with memory management in Python?\n",
        "->Python's automatic memory management, while simplifying development, presents several challenges:\n",
        "Garbage Collection Overhead:\n",
        "Python employs garbage collection to reclaim unused memory. While effective, this process can introduce performance overhead, especially with frequent or large collections, leading to latency spikes.\n",
        "Memory Leaks:\n",
        "Despite garbage collection, memory leaks can occur, particularly due to circular references where objects refer to each other, preventing their reference counts from reaching zero.\n",
        "Fragmentation:\n",
        "Over time, memory can become fragmented into small, non-contiguous chunks, leading to inefficient memory utilization and potential performance degradation.\n",
        "Memory Bloat:\n",
        "Applications may load large amounts of data into memory and fail to deallocate it when no longer needed, resulting in memory bloat, increasing costs, and poor performance.\n",
        "High Memory Consumption:\n",
        "Python's memory overhead can be significant, especially for large-scale data processing or long-running services, due to factors like object metadata and the need to store reference counts for every object.\n",
        "Limited Customization:\n",
        "Python's memory management doesn't offer the same level of manual control as languages like C or C++, which can be a limitation in performance-critical applications.\n",
        "Addressing these challenges often requires careful coding practices, such as minimizing unnecessary object creation, using efficient data structures, and manually managing resources when appropriate.\n",
        "\n",
        "24. How do you raise an exception manually in Python?\n",
        "->To raise an exception manually in Python, the raise keyword is used, followed by the exception class or instance. Optionally, a custom error message can be included.\n",
        "The raise statement immediately stops the normal execution flow and transfers control to the nearest matching except block. If no matching except block is found, the program terminates and prints the traceback.\n",
        "\n",
        "25. Why is it important to use multithreading in certain application?\n",
        "->benefit from concurrent execution of tasks, improved responsiveness, and efficient resource utilization. By breaking down a program into smaller, independent threads, applications can perform multiple operations simultaneously, leading to faster execution, smoother user interfaces, and better utilization of CPU cores.\n",
        "\n"
      ],
      "metadata": {
        "id": "BDIRztl_1hOX"
      }
    },
    {
      "cell_type": "markdown",
      "source": [
        "**Practical **"
      ],
      "metadata": {
        "id": "ybirtMkt698r"
      }
    },
    {
      "cell_type": "code",
      "source": [
        "# Open the file in write mode\n",
        "with open('example.txt', 'w') as file:\n",
        "    # Write a string to the file\n",
        "    file.write('Hello, this is a test string.')"
      ],
      "metadata": {
        "id": "7VkNNCel7Gh8"
      },
      "execution_count": 1,
      "outputs": []
    },
    {
      "cell_type": "code",
      "source": [
        "# Replace 'filename.txt' with the path to your file\n",
        "file_path = 'filename.txt'\n",
        "\n",
        "try:\n",
        "    with open(file_path, 'r') as file:\n",
        "        for line in file:\n",
        "            print(line.strip())  # .strip() removes leading/trailing whitespace\n",
        "except FileNotFoundError:\n",
        "    print(f\"The file '{file_path}' was not found.\")\n",
        "except Exception as e:\n",
        "    print(f\"An error occurred: {e}\")"
      ],
      "metadata": {
        "colab": {
          "base_uri": "https://localhost:8080/"
        },
        "id": "coOVmdky-AfC",
        "outputId": "07b79b30-766e-4929-d167-3ed41680f70c"
      },
      "execution_count": 8,
      "outputs": [
        {
          "output_type": "stream",
          "name": "stdout",
          "text": [
            "The file 'filename.txt' was not found.\n"
          ]
        }
      ]
    },
    {
      "cell_type": "code",
      "source": [
        "file_path = 'filename.txt'  # Replace with your file path\n",
        "\n",
        "try:\n",
        "    with open(file_path, 'r') as file:\n",
        "        # Process the file if it exists\n",
        "        for line in file:\n",
        "            print(line.strip())\n",
        "except FileNotFoundError:\n",
        "    print(f\"Error: The file '{file_path}' was not found.\")\n",
        "except Exception as e:\n",
        "    print(f\"An unexpected error occurred: {e}\")"
      ],
      "metadata": {
        "colab": {
          "base_uri": "https://localhost:8080/"
        },
        "id": "TCqcSIRp-e_h",
        "outputId": "9555f881-9193-4ed0-bc1c-1932efd62884"
      },
      "execution_count": 9,
      "outputs": [
        {
          "output_type": "stream",
          "name": "stdout",
          "text": [
            "Error: The file 'filename.txt' was not found.\n"
          ]
        }
      ]
    },
    {
      "cell_type": "code",
      "source": [
        "def copy_file_content(source_file, destination_file):\n",
        "    \"\"\"Copies content from source_file to destination_file.\"\"\"\n",
        "    try:\n",
        "        with open(source_file, 'r') as source, open(destination_file, 'w') as destination:\n",
        "            for line in source:\n",
        "                destination.write(line)\n",
        "        print(f\"Content copied from '{source_file}' to '{destination_file}' successfully.\")\n",
        "    except FileNotFoundError:\n",
        "        print(f\"Error: Source file '{source_file}' not found.\")\n",
        "    except Exception as e:\n",
        "        print(f\"An unexpected error occurred: {e}\")\n",
        "\n",
        "# Example usage\n",
        "source_file = 'input.txt'  # Replace with your source file\n",
        "destination_file = 'output.txt'  # Replace with your destination file\n",
        "\n",
        "copy_file_content(source_file, destination_file)"
      ],
      "metadata": {
        "colab": {
          "base_uri": "https://localhost:8080/"
        },
        "id": "FCuHJ67N-tiC",
        "outputId": "48a84e62-1e81-4204-cfbb-b0dffad0ed59"
      },
      "execution_count": 10,
      "outputs": [
        {
          "output_type": "stream",
          "name": "stdout",
          "text": [
            "Error: Source file 'input.txt' not found.\n"
          ]
        }
      ]
    },
    {
      "cell_type": "code",
      "source": [
        "def copy_file_content(source_file, destination_file):\n",
        "    \"\"\"Copies content from source_file to destination_file.\"\"\"\n",
        "    try:\n",
        "        with open(source_file, 'r') as source, open(destination_file, 'w') as destination:\n",
        "            for line in source:\n",
        "                destination.write(line)\n",
        "        print(f\"Content copied from '{source_file}' to '{destination_file}' successfully.\")\n",
        "    except FileNotFoundError:\n",
        "        print(f\"Error: Source file '{source_file}' not found.\")\n",
        "    except Exception as e:\n",
        "        print(f\"An unexpected error occurred: {e}\")\n",
        "\n",
        "# Example usage\n",
        "source_file = 'input.txt'  # Replace with your source file\n",
        "destination_file = 'output.txt'  # Replace with your destination file\n",
        "\n",
        "copy_file_content(source_file, destination_file)"
      ],
      "metadata": {
        "colab": {
          "base_uri": "https://localhost:8080/"
        },
        "id": "2aV2GYJz_KGi",
        "outputId": "7f44f71f-71f5-4824-9616-87a83c76b2ed"
      },
      "execution_count": 11,
      "outputs": [
        {
          "output_type": "stream",
          "name": "stdout",
          "text": [
            "Error: Source file 'input.txt' not found.\n"
          ]
        }
      ]
    },
    {
      "cell_type": "code",
      "source": [
        "import logging\n",
        "\n",
        "# Configure logging\n",
        "logging.basicConfig(filename='error.log', level=logging.ERROR,\n",
        "                    format='%(asctime)s - %(levelname)s - %(message)s')\n",
        "\n",
        "def divide(x, y):\n",
        "    try:\n",
        "        result = x / y\n",
        "        return result\n",
        "    except ZeroDivisionError:\n",
        "        logging.error(\"Division by zero error occurred\")\n",
        "        # You can add more context to the log message if needed\n",
        "        # logging.error(f\"Division by zero error: {x} / {y}\")\n",
        "        # You might want to re-raise the exception or handle it differently\n",
        "        # raise  # Re-raise the exception\n",
        "\n",
        "# Example usage\n",
        "numerator = 10\n",
        "denominator = 0\n",
        "\n",
        "try:\n",
        "    result = divide(numerator, denominator)\n",
        "    # To see the output, run the code.\n",
        "except ZeroDivisionError:\n",
        "    print(\"Division by zero error handled\")"
      ],
      "metadata": {
        "colab": {
          "base_uri": "https://localhost:8080/"
        },
        "id": "_3MjSMY1_aKR",
        "outputId": "6dcc4930-06d6-4f5b-f9ac-fe3525d8ec38"
      },
      "execution_count": 13,
      "outputs": [
        {
          "output_type": "stream",
          "name": "stderr",
          "text": [
            "ERROR:root:Division by zero error occurred\n"
          ]
        }
      ]
    },
    {
      "cell_type": "code",
      "source": [
        "import logging\n",
        "\n",
        "# Configure logging (set the desired level)\n",
        "logging.basicConfig(filename='my_app.log', level=logging.INFO,\n",
        "                    format='%(asctime)s - %(levelname)s - %(message)s')\n",
        "\n",
        "# Log messages at different levels\n",
        "logging.debug('This is a debug message')\n",
        "logging.info('This is an info message')\n",
        "logging.warning('This is a warning message')\n",
        "logging.error('This is an error message')\n",
        "logging.critical('This is a critical message')"
      ],
      "metadata": {
        "colab": {
          "base_uri": "https://localhost:8080/"
        },
        "id": "WybS0l0TAGph",
        "outputId": "16acd5d4-ac00-4f19-e544-e69d4e7a7957"
      },
      "execution_count": 16,
      "outputs": [
        {
          "output_type": "stream",
          "name": "stderr",
          "text": [
            "WARNING:root:This is a warning message\n",
            "ERROR:root:This is an error message\n",
            "CRITICAL:root:This is a critical message\n"
          ]
        }
      ]
    },
    {
      "cell_type": "code",
      "source": [
        "def read_file(file_path):\n",
        "    \"\"\"Reads the content of a file and prints it to the console.\n",
        "    Handles FileNotFoundError gracefully.\n",
        "    \"\"\"\n",
        "    try:\n",
        "        with open(file_path, 'r') as file:\n",
        "            content = file.read()\n",
        "            print(content)\n",
        "    except FileNotFoundError:\n",
        "        print(f\"Error: File '{file_path}' not found.\")\n",
        "    except Exception as e:\n",
        "        print(f\"An unexpected error occurred: {e}\")\n",
        "\n",
        "# Example usage\n",
        "file_path = 'my_file.txt'  # Replace with your file path\n",
        "read_file(file_path)"
      ],
      "metadata": {
        "colab": {
          "base_uri": "https://localhost:8080/"
        },
        "id": "mXljDfnwAJxY",
        "outputId": "a6d6332f-8efd-46ff-b591-913523d6ccb8"
      },
      "execution_count": 17,
      "outputs": [
        {
          "output_type": "stream",
          "name": "stdout",
          "text": [
            "Error: File 'my_file.txt' not found.\n"
          ]
        }
      ]
    },
    {
      "cell_type": "code",
      "source": [
        "def read_file_into_list(file_path):\n",
        "    \"\"\"Reads a file line by line and stores its content in a list.\"\"\"\n",
        "    lines = []\n",
        "    try:\n",
        "        with open(file_path, 'r') as file:\n",
        "            for line in file:\n",
        "                lines.append(line.strip())  # Add each line to the list (strip() removes newline)\n",
        "    except FileNotFoundError:\n",
        "        print(f\"Error: File '{file_path}' not found.\")\n",
        "    except Exception as e:\n",
        "        print(f\"An unexpected error occurred: {e}\")\n",
        "    return lines\n",
        "\n",
        "# Example usage\n",
        "file_path = 'my_file.txt'\n",
        "file_content = read_file_into_list(file_path)\n",
        "# To see the output, run the code."
      ],
      "metadata": {
        "colab": {
          "base_uri": "https://localhost:8080/"
        },
        "id": "GMt20MQwARih",
        "outputId": "0c912353-752e-41cb-fc20-839371324758"
      },
      "execution_count": 18,
      "outputs": [
        {
          "output_type": "stream",
          "name": "stdout",
          "text": [
            "Error: File 'my_file.txt' not found.\n"
          ]
        }
      ]
    },
    {
      "cell_type": "code",
      "source": [
        "file_path = \"my_file.txt\"  # Replace with your file path\n",
        "data_to_append = \"This is the data to append.\\n\"\n",
        "\n",
        "try:\n",
        "    with open(file_path, 'a') as file:  # Open in append mode ('a')\n",
        "        file.write(data_to_append)  # Append the data\n",
        "    print(f\"Data appended to '{file_path}' successfully.\")\n",
        "except Exception as e:\n",
        "    print(f\"An error occurred: {e}\")"
      ],
      "metadata": {
        "colab": {
          "base_uri": "https://localhost:8080/"
        },
        "id": "B6uhgKhiAZPz",
        "outputId": "6b052221-bce2-4b1e-d494-2790cdab7db8"
      },
      "execution_count": 19,
      "outputs": [
        {
          "output_type": "stream",
          "name": "stdout",
          "text": [
            "Data appended to 'my_file.txt' successfully.\n"
          ]
        }
      ]
    },
    {
      "cell_type": "code",
      "source": [
        "my_dict = {\"apple\": 1, \"banana\": 2, \"orange\": 3}\n",
        "\n",
        "key_to_access = \"grape\"  # This key doesn't exist in the dictionary\n",
        "\n",
        "try:\n",
        "    value = my_dict[key_to_access]\n",
        "    print(f\"The value for key '{key_to_access}' is: {value}\")\n",
        "except KeyError:\n",
        "    print(f\"Error: Key '{key_to_access}' not found in the dictionary.\")\n",
        "except Exception as e:\n",
        "    print(f\"An unexpected error occurred: {e}\")"
      ],
      "metadata": {
        "colab": {
          "base_uri": "https://localhost:8080/"
        },
        "id": "jcLxXh-2As5x",
        "outputId": "ff7dd8e8-4034-4790-e505-9a95186f34b9"
      },
      "execution_count": 20,
      "outputs": [
        {
          "output_type": "stream",
          "name": "stdout",
          "text": [
            "Error: Key 'grape' not found in the dictionary.\n"
          ]
        }
      ]
    },
    {
      "cell_type": "code",
      "source": [
        "def example_function(x, y):\n",
        "    try:\n",
        "        result = x / y  # Potential ZeroDivisionError\n",
        "        print(result)\n",
        "\n",
        "        # Accessing an index out of range\n",
        "        my_list = [1, 2, 3]\n",
        "        print(my_list[3])\n",
        "\n",
        "    except ZeroDivisionError:\n",
        "        print(\"Error: Division by zero\")\n",
        "    except IndexError:\n",
        "        print(\"Error: Index out of range\")\n",
        "    except TypeError:\n",
        "        print(\"Error: Type error occurred\")\n",
        "    except Exception as e:\n",
        "        print(f\"An unexpected error occurred: {e}\")\n",
        "\n",
        "# Example usage\n",
        "example_function(10, 0)  # Will raise ZeroDivisionError\n",
        "example_function(10, 2) # Will raise IndexError"
      ],
      "metadata": {
        "colab": {
          "base_uri": "https://localhost:8080/"
        },
        "id": "VyHwEgcXAxI4",
        "outputId": "20dde7e5-5474-402b-962b-b59c6a1f25b3"
      },
      "execution_count": 21,
      "outputs": [
        {
          "output_type": "stream",
          "name": "stdout",
          "text": [
            "Error: Division by zero\n",
            "5.0\n",
            "Error: Index out of range\n"
          ]
        }
      ]
    },
    {
      "cell_type": "code",
      "source": [
        "import os\n",
        "\n",
        "file_path = \"my_file.txt\"  # Replace with your file path\n",
        "\n",
        "if os.path.exists(file_path):\n",
        "    # File exists, proceed with reading\n",
        "    with open(file_path, 'r') as file:\n",
        "        # Read and process the file content\n",
        "        pass  # Replace with your file reading logic\n",
        "else:\n",
        "    print(f\"Error: File '{file_path}' not found.\")"
      ],
      "metadata": {
        "id": "z92QV36aA-W5"
      },
      "execution_count": 22,
      "outputs": []
    },
    {
      "cell_type": "code",
      "source": [
        "import logging\n",
        "import math\n",
        "\n",
        "# Configure logging to log to both console and file\n",
        "logging.basicConfig(\n",
        "    level=logging.DEBUG,  # Set the minimum logging level\n",
        "    format=\"%(asctime)s - %(levelname)s - %(message)s\",\n",
        "    handlers=[\n",
        "        logging.FileHandler(\"app.log\"),  # Log to a file\n",
        "        logging.StreamHandler(),  # Log to the console\n",
        "    ],\n",
        ")\n",
        "\n",
        "def calculate_square_root(number):\n",
        "    \"\"\"Calculates the square root of a number.\n",
        "\n",
        "    Args:\n",
        "        number: The number to calculate the square root of.\n",
        "\n",
        "    Returns:\n",
        "        The square root of the number, or None if the number is negative.\n",
        "    \"\"\"\n",
        "    try:\n",
        "        if number >= 0:\n",
        "            result = math.sqrt(number)\n",
        "            logging.info(f\"Calculated square root of {number}: {result}\")\n",
        "            return result\n",
        "        else:\n",
        "            logging.error(\"Cannot calculate square root of a negative number.\")\n",
        "            return None\n",
        "    except Exception as e:\n",
        "        logging.exception(f\"An unexpected error occurred: {e}\")\n",
        "        return None\n",
        "\n",
        "if __name__ == \"__main__\":\n",
        "    numbers = [9, -4, 16, 25]\n",
        "    for number in numbers:\n",
        "        calculate_square_root(number)"
      ],
      "metadata": {
        "colab": {
          "base_uri": "https://localhost:8080/"
        },
        "id": "rQYETTInBCcJ",
        "outputId": "a5b02ad5-f857-4532-cdfd-3dbf40b8b56c"
      },
      "execution_count": 23,
      "outputs": [
        {
          "output_type": "stream",
          "name": "stderr",
          "text": [
            "ERROR:root:Cannot calculate square root of a negative number.\n"
          ]
        }
      ]
    },
    {
      "cell_type": "code",
      "source": [
        "def print_file_content(file_path):\n",
        "    \"\"\"Prints the content of a file to the console.\n",
        "    Handles empty files gracefully.\n",
        "    \"\"\"\n",
        "    try:\n",
        "        with open(file_path, 'r') as file:\n",
        "            content = file.read()\n",
        "            if content:  # Check if the file has content\n",
        "                print(content)\n",
        "            else:\n",
        "                print(f\"The file '{file_path}' is empty.\")\n",
        "    except FileNotFoundError:\n",
        "        print(f\"Error: File '{file_path}' not found.\")\n",
        "    except Exception as e:\n",
        "        print(f\"An unexpected error occurred: {e}\")\n",
        "\n",
        "# Example usage\n",
        "file_path = 'my_file.txt'  # Replace with your file path\n",
        "print_file_content(file_path)"
      ],
      "metadata": {
        "colab": {
          "base_uri": "https://localhost:8080/"
        },
        "id": "-nJJUNcXBCr4",
        "outputId": "9df15554-0af4-4cd9-80d8-dedbc4a999a4"
      },
      "execution_count": 24,
      "outputs": [
        {
          "output_type": "stream",
          "name": "stdout",
          "text": [
            "This is the data to append.\n",
            "\n"
          ]
        }
      ]
    },
    {
      "cell_type": "code",
      "source": [
        "!pip install memory_profiler==0.61.0\n",
        "from memory_profiler import profile\n",
        "\n",
        "@profile\n",
        "def my_function():\n",
        "    a = [1] * (10 ** 6)  # Create a large list\n",
        "    b = [2] * (2 * 10 ** 7)  # Create an even larger list\n",
        "    del b  # Delete the larger list to see memory release\n",
        "    return a\n",
        "\n",
        "result = my_function()"
      ],
      "metadata": {
        "colab": {
          "base_uri": "https://localhost:8080/"
        },
        "id": "pX_2H6wXBqNR",
        "outputId": "0332d8af-6e03-43fa-f9b6-1931d3369cf0"
      },
      "execution_count": 27,
      "outputs": [
        {
          "output_type": "stream",
          "name": "stdout",
          "text": [
            "Collecting memory_profiler==0.61.0\n",
            "  Downloading memory_profiler-0.61.0-py3-none-any.whl.metadata (20 kB)\n",
            "Requirement already satisfied: psutil in /usr/local/lib/python3.11/dist-packages (from memory_profiler==0.61.0) (5.9.5)\n",
            "Downloading memory_profiler-0.61.0-py3-none-any.whl (31 kB)\n",
            "Installing collected packages: memory_profiler\n",
            "Successfully installed memory_profiler-0.61.0\n"
          ]
        },
        {
          "output_type": "stream",
          "name": "stderr",
          "text": [
            "\n",
            "PYDEV DEBUGGER WARNING:\n",
            "sys.settrace() should not be used when the debugger is being used.\n",
            "This may cause the debugger to stop working correctly.\n",
            "If this is needed, please check: \n",
            "http://pydev.blogspot.com/2007/06/why-cant-pydev-debugger-work-with.html\n",
            "to see how to restore the debug tracing back correctly.\n",
            "Call Location:\n",
            "  File \"/usr/local/lib/python3.11/dist-packages/memory_profiler.py\", line 847, in enable\n",
            "    sys.settrace(self.trace_memory_usage)\n",
            "\n"
          ]
        },
        {
          "output_type": "stream",
          "name": "stdout",
          "text": [
            "ERROR: Could not find file <ipython-input-27-a975047aa227>\n",
            "NOTE: %mprun can only be used on functions defined in physical files, and not in the IPython environment.\n"
          ]
        },
        {
          "output_type": "stream",
          "name": "stderr",
          "text": [
            "\n",
            "PYDEV DEBUGGER WARNING:\n",
            "sys.settrace() should not be used when the debugger is being used.\n",
            "This may cause the debugger to stop working correctly.\n",
            "If this is needed, please check: \n",
            "http://pydev.blogspot.com/2007/06/why-cant-pydev-debugger-work-with.html\n",
            "to see how to restore the debug tracing back correctly.\n",
            "Call Location:\n",
            "  File \"/usr/local/lib/python3.11/dist-packages/memory_profiler.py\", line 850, in disable\n",
            "    sys.settrace(self._original_trace_function)\n",
            "\n"
          ]
        }
      ]
    },
    {
      "cell_type": "code",
      "source": [
        "def write_numbers_to_file(file_path, numbers):\n",
        "    \"\"\"Writes a list of numbers to a file, one number per line.\"\"\"\n",
        "    try:\n",
        "        with open(file_path, 'w') as file:\n",
        "            for number in numbers:\n",
        "                file.write(str(number) + '\\n')  # Convert number to string and add newline\n",
        "        print(f\"Numbers written to '{file_path}' successfully.\")\n",
        "    except Exception as e:\n",
        "        print(f\"An error occurred: {e}\")\n",
        "\n",
        "# Example usage\n",
        "file_path = 'numbers.txt'\n",
        "numbers = [1, 2, 3, 4, 5]\n",
        "\n",
        "write_numbers_to_file(file_path, numbers)"
      ],
      "metadata": {
        "colab": {
          "base_uri": "https://localhost:8080/"
        },
        "id": "YZxNU5EVCEnS",
        "outputId": "45e82332-aaab-4043-c0ae-9e2e7faf41d3"
      },
      "execution_count": 28,
      "outputs": [
        {
          "output_type": "stream",
          "name": "stdout",
          "text": [
            "Numbers written to 'numbers.txt' successfully.\n"
          ]
        }
      ]
    },
    {
      "cell_type": "code",
      "source": [
        "import logging\n",
        "import logging.handlers\n",
        "\n",
        "# Create a logger\n",
        "logger = logging.getLogger('my_app')\n",
        "logger.setLevel(logging.DEBUG)  # Set the minimum logging level\n",
        "\n",
        "# Create a RotatingFileHandler\n",
        "handler = logging.handlers.RotatingFileHandler(\n",
        "    'my_app.log',  # Log file name\n",
        "    maxBytes=1000000,  # 1MB (1000000 bytes)\n",
        "    backupCount=5,  # Keep 5 backup files\n",
        ")\n",
        "handler.setLevel(logging.DEBUG)  # Set the logging level for the handler\n",
        "\n",
        "# Create a formatter and add it to the handler\n",
        "formatter = logging.Formatter('%(asctime)s - %(levelname)s - %(message)s')\n",
        "handler.setFormatter(formatter)\n",
        "\n",
        "# Add the handler to the logger\n",
        "logger.addHandler(handler)\n",
        "\n",
        "# Now you can use the logger to log messages\n",
        "logger.debug('This is a debug message')\n",
        "logger.info('This is an info message')\n",
        "logger.warning('This is a warning message')\n",
        "logger.error('This is an error message')\n",
        "logger.critical('This is a critical message')"
      ],
      "metadata": {
        "colab": {
          "base_uri": "https://localhost:8080/"
        },
        "id": "4_mmTKHJCObg",
        "outputId": "7ff2b6e7-a862-4e5e-bbc1-b72fae1232ed"
      },
      "execution_count": 29,
      "outputs": [
        {
          "output_type": "stream",
          "name": "stderr",
          "text": [
            "DEBUG:my_app:This is a debug message\n",
            "INFO:my_app:This is an info message\n",
            "WARNING:my_app:This is a warning message\n",
            "ERROR:my_app:This is an error message\n",
            "CRITICAL:my_app:This is a critical message\n"
          ]
        }
      ]
    },
    {
      "cell_type": "code",
      "source": [
        "def access_data(data_structure, index_or_key):\n",
        "    \"\"\"Accesses data from a list or dictionary and handles potential errors.\"\"\"\n",
        "    try:\n",
        "        if isinstance(data_structure, list):\n",
        "            value = data_structure[index_or_key]  # Access by index for lists\n",
        "        elif isinstance(data_structure, dict):\n",
        "            value = data_structure[index_or_key]  # Access by key for dictionaries\n",
        "        else:\n",
        "            raise TypeError(\"Unsupported data structure type\")\n",
        "\n",
        "        print(f\"Value: {value}\")\n",
        "\n",
        "    except IndexError:\n",
        "        print(f\"Error: Invalid index '{index_or_key}' for the list\")\n",
        "    except KeyError:\n",
        "        print(f\"Error: Key '{index_or_key}' not found in the dictionary\")\n",
        "    except TypeError as e:\n",
        "        print(f\"Error: {e}\")\n",
        "    except Exception as e:\n",
        "        print(f\"An unexpected error occurred: {e}\")\n",
        "\n",
        "# Example usage:\n",
        "my_list = [1, 2, 3]\n",
        "my_dict = {\"a\": 1, \"b\": 2, \"c\": 3}\n",
        "\n",
        "access_data(my_list, 3)  # Will raise IndexError\n",
        "access_data(my_dict, \"d\")  # Will raise KeyError\n",
        "access_data(my_list, 1)  # Will access element at index 1\n",
        "access_data(my_dict, \"b\")  # Will access value for key \"b\""
      ],
      "metadata": {
        "colab": {
          "base_uri": "https://localhost:8080/"
        },
        "id": "xbgqhjhnCY0Q",
        "outputId": "52f97f43-cf58-431a-d815-5897de140919"
      },
      "execution_count": 30,
      "outputs": [
        {
          "output_type": "stream",
          "name": "stdout",
          "text": [
            "Error: Invalid index '3' for the list\n",
            "Error: Key 'd' not found in the dictionary\n",
            "Value: 2\n",
            "Value: 2\n"
          ]
        }
      ]
    },
    {
      "cell_type": "code",
      "source": [
        "file_path = \"my_file.txt\"  # Replace with your file path\n",
        "\n",
        "try:\n",
        "    with open(file_path, 'r') as file:\n",
        "        content = file.read()  # Read the entire file content\n",
        "        # To see the output, run the code.\n",
        "except FileNotFoundError:\n",
        "    print(f\"Error: File '{file_path}' not found.\")\n",
        "except Exception as e:\n",
        "    print(f\"An unexpected error occurred: {e}\")"
      ],
      "metadata": {
        "id": "C_cuMnoACjuo"
      },
      "execution_count": 31,
      "outputs": []
    },
    {
      "cell_type": "code",
      "source": [
        "import re\n",
        "\n",
        "def count_word_occurrences(file_path, word):\n",
        "    \"\"\"Counts the occurrences of a specific word in a file.\"\"\"\n",
        "    try:\n",
        "        with open(file_path, 'r') as file:\n",
        "            content = file.read()\n",
        "            # Use regex to find all occurrences of the word (case-insensitive)\n",
        "            occurrences = len(re.findall(r'\\b' + word + r'\\b', content, re.IGNORECASE))\n",
        "            print(f\"The word '{word}' appears {occurrences} times in the file.\")\n",
        "    except FileNotFoundError:\n",
        "        print(f\"Error: File '{file_path}' not found.\")\n",
        "    except Exception as e:\n",
        "        print(f\"An unexpected error occurred: {e}\")\n",
        "\n",
        "# Example usage:\n",
        "file_path = 'my_file.txt'  # Replace with your file path\n",
        "word_to_count = 'example'  # Replace with the word you want to count\n",
        "\n",
        "count_word_occurrences(file_path, word_to_count)"
      ],
      "metadata": {
        "colab": {
          "base_uri": "https://localhost:8080/"
        },
        "id": "fssR4DfDCxzg",
        "outputId": "c826f357-dc5d-4ff5-d07e-57e1998475f9"
      },
      "execution_count": 33,
      "outputs": [
        {
          "output_type": "stream",
          "name": "stdout",
          "text": [
            "The word 'example' appears 0 times in the file.\n"
          ]
        }
      ]
    },
    {
      "cell_type": "code",
      "source": [
        "import os\n",
        "\n",
        "def is_file_empty(file_path):\n",
        "    \"\"\"Checks if a file is empty using os.path.getsize().\"\"\"\n",
        "    return os.path.exists(file_path) and os.path.getsize(file_path) == 0\n",
        "\n",
        "# Example usage\n",
        "file_path = 'my_file.txt'  # Replace with your file path\n",
        "\n",
        "if is_file_empty(file_path):\n",
        "    print(f\"The file '{file_path}' is empty.\")\n",
        "else:\n",
        "    # Proceed with reading the file content\n",
        "    pass  # Replace with your file reading logic"
      ],
      "metadata": {
        "id": "r9NLgQ1yErdY"
      },
      "execution_count": 34,
      "outputs": []
    },
    {
      "cell_type": "code",
      "source": [
        "import logging\n",
        "import os\n",
        "\n",
        "def write_to_log(file_path, content):\n",
        "    \"\"\"Writes content to a file and logs errors.\"\"\"\n",
        "    try:\n",
        "        with open(file_path, 'w') as file:\n",
        "            file.write(content)\n",
        "    except FileNotFoundError:\n",
        "        logging.error(f\"File not found: {file_path}\")\n",
        "    except PermissionError:\n",
        "        logging.error(f\"Permission denied: {file_path}\")\n",
        "    except Exception as e:\n",
        "        logging.exception(f\"An error occurred: {e}\")\n",
        "\n",
        "# Configure logging\n",
        "logging.basicConfig(filename='file_handling_errors.log', level=logging.ERROR,\n",
        "                    format='%(asctime)s - %(levelname)s - %(message)s')\n",
        "\n",
        "# Example usage\n",
        "file_path = 'example.txt'\n",
        "content = 'This is some content to write to the file.'\n",
        "\n",
        "write_to_log(file_path, content)"
      ],
      "metadata": {
        "id": "37TVuPMrEzTC"
      },
      "execution_count": 35,
      "outputs": []
    }
  ]
}